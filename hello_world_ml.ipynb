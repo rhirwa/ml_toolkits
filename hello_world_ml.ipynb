{
  "nbformat": 4,
  "nbformat_minor": 0,
  "metadata": {
    "colab": {
      "provenance": [],
      "authorship_tag": "ABX9TyMhrxNXrRbb8RDh1AdfcdWr",
      "include_colab_link": true
    },
    "kernelspec": {
      "name": "python3",
      "display_name": "Python 3"
    },
    "language_info": {
      "name": "python"
    }
  },
  "cells": [
    {
      "cell_type": "markdown",
      "metadata": {
        "id": "view-in-github",
        "colab_type": "text"
      },
      "source": [
        "<a href=\"https://colab.research.google.com/github/rhirwa/ml_toolkits/blob/main/hello_world_ml.ipynb\" target=\"_parent\"><img src=\"https://colab.research.google.com/assets/colab-badge.svg\" alt=\"Open In Colab\"/></a>"
      ]
    },
    {
      "cell_type": "code",
      "execution_count": null,
      "metadata": {
        "id": "55SeJTDmpMTF"
      },
      "outputs": [],
      "source": [
        "from sklearn.datasets import fetch_openml\n",
        "mnist = fetch_openml('mnist_784', as_frame=False)\n",
        "X, y = mnist.data, mnist.target"
      ]
    },
    {
      "cell_type": "code",
      "source": [
        "#check one image \n",
        "import matplotlib.pyplot as plt \n",
        "def plt_image(image_data):\n",
        "  image = image_data.reshape(28, 28)\n",
        "  plt.imshow(image, cmap='binary')\n",
        "  plt.axis('off')\n",
        "random_digit = X[1]\n",
        "plt_image(random_digit)\n",
        "plt.show()"
      ],
      "metadata": {
        "colab": {
          "base_uri": "https://localhost:8080/",
          "height": 248
        },
        "id": "4It6VJi4rhLU",
        "outputId": "8ee5e00d-0300-4d86-e821-7556932d3698"
      },
      "execution_count": null,
      "outputs": [
        {
          "output_type": "display_data",
          "data": {
            "text/plain": [
              "<Figure size 432x288 with 1 Axes>"
            ],
            "image/png": "[encoded data removed]"
          },
          "metadata": {
            "needs_background": "light"
          }
        }
      ]
    },
    {
      "cell_type": "code",
      "source": [
        "# splitting the dataset, a small model \n",
        "X_train, X_test, y_train, y_test = X[:60000], X[60000:], y[:60000], y[60000:]\n",
        "from sklearn.linear_model import SGDClassifier\n",
        "y_train_0 = (y_train == '0')\n",
        "y_test_0 = (y_test == '0')\n",
        "sgc_clf = SGDClassifier(random_state = 1)\n",
        "sgc_clf.fit(X_train, y_train_0)\n",
        "sgc_clf.predict([random_digit])"
      ],
      "metadata": {
        "colab": {
          "base_uri": "https://localhost:8080/"
        },
        "id": "hgi_NbYls4Y2",
        "outputId": "bf52543a-c65b-4f4e-c7f9-685e198895e3"
      },
      "execution_count": null,
      "outputs": [
        {
          "output_type": "execute_result",
          "data": {
            "text/plain": [
              "array([ True])"
            ]
          },
          "metadata": {},
          "execution_count": 3
        }
      ]
    },
    {
      "cell_type": "code",
      "source": [
        "#cross validation \n",
        "from sklearn.model_selection import cross_val_score \n",
        "cross_val_score(sgc_clf, X_train, y_train_0, cv = 3, scoring='accuracy')\n",
        "#best way to check accuracy for classifiers is to use confusion matrix"
      ],
      "metadata": {
        "colab": {
          "base_uri": "https://localhost:8080/"
        },
        "id": "DXwWiMeG1Eof",
        "outputId": "58d7edc7-5bc6-4f0a-8f15-0803cea6b1a6"
      },
      "execution_count": null,
      "outputs": [
        {
          "output_type": "execute_result",
          "data": {
            "text/plain": [
              "array([0.98855, 0.98975, 0.9878 ])"
            ]
          },
          "metadata": {},
          "execution_count": 4
        }
      ]
    },
    {
      "cell_type": "code",
      "source": [
        "# a custom cross validation score\n",
        "from sklearn.model_selection import StratifiedKFold\n",
        "from sklearn.base import clone\n",
        "\n",
        "skfolds = StratifiedKFold(n_splits=3)  # add shuffle=True if the dataset is\n",
        "                                       # not already shuffled\n",
        "for train_index, test_index in skfolds.split(X_train, y_train_0):\n",
        "    clone_clf = clone(sgc_clf)\n",
        "    X_train_folds = X_train[train_index]\n",
        "    y_train_folds = y_train_0[train_index]\n",
        "    X_test_fold = X_train[test_index]\n",
        "    y_test_fold = y_train_0[test_index]\n",
        "\n",
        "    clone_clf.fit(X_train_folds, y_train_folds)\n",
        "    y_pred = clone_clf.predict(X_test_fold)\n",
        "    n_correct = sum(y_pred == y_test_fold)\n",
        "    print(n_correct / len(y_pred))  # prints 0.95035, 0.96035, and 0.9604\n"
      ],
      "metadata": {
        "colab": {
          "base_uri": "https://localhost:8080/"
        },
        "id": "4BIT8CW91nUA",
        "outputId": "c8851a90-923f-4c9b-8fe2-5f6300cc25df"
      },
      "execution_count": null,
      "outputs": [
        {
          "output_type": "stream",
          "name": "stdout",
          "text": [
            "0.98855\n",
            "0.98975\n",
            "0.9878\n"
          ]
        }
      ]
    },
    {
      "cell_type": "code",
      "source": [
        "#confusion matrices \n",
        "from sklearn.model_selection import cross_val_predict\n",
        "y_train_pred = cross_val_predict(sgc_clf, X_train, y_train_0, cv=3)"
      ],
      "metadata": {
        "id": "jMY8cLSqwkaI"
      },
      "execution_count": null,
      "outputs": []
    },
    {
      "cell_type": "code",
      "source": [
        "from sklearn.metrics import confusion_matrix\n",
        "cm = confusion_matrix(y_train_0, y_train_pred)\n",
        "cm"
      ],
      "metadata": {
        "colab": {
          "base_uri": "https://localhost:8080/"
        },
        "id": "NF0OUaFYyiNK",
        "outputId": "3331d1ee-0f7b-4416-f772-666c251553ad"
      },
      "execution_count": null,
      "outputs": [
        {
          "output_type": "execute_result",
          "data": {
            "text/plain": [
              "array([[53751,   326],\n",
              "       [  352,  5571]])"
            ]
          },
          "metadata": {},
          "execution_count": 8
        }
      ]
    },
    {
      "cell_type": "code",
      "source": [
        "#precision and recall \n",
        "from sklearn.metrics import precision_score, recall_score\n",
        "precision_score(y_train_0, y_train_pred)\n",
        "recall_score(y_train_0, y_train_pred)"
      ],
      "metadata": {
        "colab": {
          "base_uri": "https://localhost:8080/"
        },
        "id": "LGDL1PE4X90x",
        "outputId": "ce151ad0-6cbf-49ab-8148-06c4b920f5e7"
      },
      "execution_count": null,
      "outputs": [
        {
          "output_type": "execute_result",
          "data": {
            "text/plain": [
              "0.9405706567617761"
            ]
          },
          "metadata": {},
          "execution_count": 9
        }
      ]
    },
    {
      "cell_type": "code",
      "source": [
        "#combine both precision and recall with f1\n",
        "from sklearn.metrics import f1_score\n",
        "f1_score(y_train_0, y_train_pred)"
      ],
      "metadata": {
        "colab": {
          "base_uri": "https://localhost:8080/"
        },
        "id": "xzClR-TGZi5X",
        "outputId": "1de0a8c5-5ee7-4588-f013-60d7b4754bac"
      },
      "execution_count": null,
      "outputs": [
        {
          "output_type": "execute_result",
          "data": {
            "text/plain": [
              "0.9426395939086294"
            ]
          },
          "metadata": {},
          "execution_count": 10
        }
      ]
    },
    {
      "cell_type": "code",
      "source": [
        "#precision/recall tradeoff, set threshold \n",
        "y_scores = sgc.classifier.decision_function([random_digit])\n",
        "threshold = 3000\n",
        "y_some_digit_pred = (y_scores > threshold)"
      ],
      "metadata": {
        "id": "wl24TUhrxWvp"
      },
      "execution_count": null,
      "outputs": []
    },
    {
      "cell_type": "code",
      "source": [
        "#return scores \n",
        "y_scores = cross_val_predict(sgd_clf, X_train, y_train_5, cv=3,\n",
        "                             method=\"decision_function\")\n"
      ],
      "metadata": {
        "id": "NhYNEasXynwz"
      },
      "execution_count": null,
      "outputs": []
    },
    {
      "cell_type": "code",
      "source": [
        "#precision and recall for all possible thresholds \n",
        "from sklearn.metrics import precision_recall_curve\n",
        "precisions, recalls, thresholds = precision_recall_curve(y_train_0, y_scores)"
      ],
      "metadata": {
        "id": "tmK19cFDzkqU"
      },
      "execution_count": null,
      "outputs": []
    },
    {
      "cell_type": "code",
      "source": [
        "plt.plot(thresholds, precisions[:-1], \"b--\", label=\"Precision\", linewidth=2)\n",
        "plt.plot(thresholds, recalls[:-1], \"g-\", label=\"Recall\", linewidth=2)\n",
        "plt.vlines(threshold, 0, 1.0, \"k\", \"dotted\", label=\"threshold\")\n",
        "[...]  # beautify the figure: add grid, legend, axis, labels, and circles\n",
        "plt.show()"
      ],
      "metadata": {
        "id": "KY_PuQvv9ouA"
      },
      "execution_count": null,
      "outputs": []
    },
    {
      "cell_type": "code",
      "source": [
        "#shooting for a particular precision\n",
        "idx_for_90_precision = (precisions >= 0.9).argmax()\n",
        "threshold_for_90_precision = thresholds[idx_for_90_precision]\n",
        "threshold_for_90_precision"
      ],
      "metadata": {
        "id": "ov_HG-cE-gii"
      },
      "execution_count": null,
      "outputs": []
    },
    {
      "cell_type": "code",
      "source": [
        "#another way to make predictions \n",
        "y_train_pred_90 = (y_scores >= threshold_for_90_precision)\n",
        "precision_score(y_train_0, y_train_pred_90)\n",
        "recall_at_90_precision = recall_score(y_train_0, y_train_pred_90)\n",
        "recall_at_90_precision"
      ],
      "metadata": {
        "id": "ZnUiF3b1QE0F"
      },
      "execution_count": null,
      "outputs": []
    },
    {
      "cell_type": "code",
      "source": [
        "#roc curve\n",
        "from sklearn.metrics import roc_curve\n",
        "\n",
        "fpr, tpr, thresholds = roc_curve(y_train_5, y_scores)"
      ],
      "metadata": {
        "id": "sif7Yy1w_4m_"
      },
      "execution_count": null,
      "outputs": []
    },
    {
      "cell_type": "code",
      "source": [
        "idx_for_threshold_at_90 = (thresholds <= threshold_for_90_precision).argmax()\n",
        "tpr_90, fpr_90 = tpr[idx_for_threshold_at_90], fpr[idx_for_threshold_at_90]\n",
        "\n",
        "plt.plot(fpr, tpr, linewidth=2, label=\"ROC curve\")\n",
        "plt.plot([0, 1], [0, 1], 'k:', label=\"Random classifier's ROC curve\")\n",
        "plt.plot([fpr_90], [tpr_90], \"ko\", label=\"Threshold for 90% precision\")\n",
        "[...]  # beautify the figure: add labels, grid, legend, arrow, and text\n",
        "plt.show()"
      ],
      "metadata": {
        "id": "37OkkCpaCJDV"
      },
      "execution_count": null,
      "outputs": []
    },
    {
      "cell_type": "code",
      "source": [
        "#compare classifiers\n",
        "from sklearn.metrics import roc_auc_score\n",
        "roc_auc_score(y_train_0, y_scores)"
      ],
      "metadata": {
        "id": "aG81RfphCx5s"
      },
      "execution_count": null,
      "outputs": []
    },
    {
      "cell_type": "code",
      "source": [
        "#trying a random forest classifier \n",
        "from sklearn.ensemble import RandomForestClassifier\n",
        "forest_clf = RandomForestClassifier(random_state = 41)"
      ],
      "metadata": {
        "id": "a_JOR_aLFB5t"
      },
      "execution_count": null,
      "outputs": []
    },
    {
      "cell_type": "code",
      "source": [
        "#get probabilities for each instance\n",
        "y_probas_forest = cross_val_predict(forest_clf, X_train, y_train_0, cv=3\n",
        "                             method='predict_proba')\n",
        "y_probas_forest[:2]"
      ],
      "metadata": {
        "id": "jpXmYQP9FTdg"
      },
      "execution_count": null,
      "outputs": []
    },
    {
      "cell_type": "code",
      "source": [
        "y_scores_forest = y_probas_forest[:1]\n",
        "precisions_forest, recalls_forest, thresholds_forest = precision_recall_curve(y_train_0, y_scores_forest)"
      ],
      "metadata": {
        "id": "H6ceYqiNJE-b"
      },
      "execution_count": null,
      "outputs": []
    },
    {
      "cell_type": "code",
      "source": [
        "#plot both sgd and random forest\n",
        "plt.plot(recalls_forest, precisions_forest,'b-', linewidth=2,\n",
        "         label = 'Random Forest')\n",
        "plt.plot(recalls, precisions, '--', linewidth=2, \n",
        "         label='SGD')\n",
        "plt.show"
      ],
      "metadata": {
        "id": "9eLKnbtPYsZq"
      },
      "execution_count": null,
      "outputs": []
    },
    {
      "cell_type": "code",
      "source": [
        "#f1 and auc scores\n",
        "y_train_pred_forest = y_probas_forest[:, 1]\n",
        "f1_score(y_train_0, y_pred_forest)\n",
        "roc_auc_score(y_train_0, y_scores_forest)"
      ],
      "metadata": {
        "id": "hSMlD0qxZak-"
      },
      "execution_count": null,
      "outputs": []
    },
    {
      "cell_type": "code",
      "source": [
        "#binary classifier on multiple classes\n",
        "from sklearn.svm import SVC\n",
        "svm_clf = SVC(random_state = 4)\n",
        "svm_clf.fit(X_train[:2000], y_train[:2000])"
      ],
      "metadata": {
        "id": "NYVGym2Ua4zP"
      },
      "execution_count": null,
      "outputs": []
    },
    {
      "cell_type": "code",
      "source": [
        "#predict and check scores\n",
        "svm_clf.predict([random_digit])\n",
        "random_digit_scores = svm_clf.decision_function([random_digit]).round(2)\n",
        "#look up class label\n",
        "svm_clf.classes_[random_digit_scores.argmax()]"
      ],
      "metadata": {
        "id": "OlaVA1ujdOPC"
      },
      "execution_count": null,
      "outputs": []
    },
    {
      "cell_type": "code",
      "source": [
        "#controlling ovo and ovr\n",
        "from sklearn.multiclass import OneVsRestClassifier\n",
        "ovr_clf = OneVsRestClassifier(SVC(random_state = 42))\n",
        "ovr_clf.fit(X_train[:2000], y_train[:2000])\n",
        "ovr_clf.predict([random_digit])"
      ],
      "metadata": {
        "id": "GQARDe_gUr5h"
      },
      "execution_count": null,
      "outputs": []
    },
    {
      "cell_type": "code",
      "source": [
        "#analyzing errors\n",
        "from sklearn.metrics import ConfusionMatrixDisplay \n",
        "y_train_pred = cross_val_predict(sgd_clf, X_train, y_train, cv=3)\n",
        "ConfusionMatrixDisplay.from_predictions(y_train, y_train_pred)"
      ],
      "metadata": {
        "id": "xSFPGeSqY9u-"
      },
      "execution_count": null,
      "outputs": []
    },
    {
      "cell_type": "code",
      "source": [
        "#normalize confusion matrix\n",
        "ConfusionMatrixDisplay.from_predictions(X_train, y_train_pred,\n",
        "                                        normalize='True', values_format='.0%')"
      ],
      "metadata": {
        "id": "CJJ5i6msbZLO"
      },
      "execution_count": null,
      "outputs": []
    },
    {
      "cell_type": "code",
      "source": [
        "#make errors stand out more \n",
        "sample_weight = (y_train_pred != y_train)\n",
        "ConfusionMatrixDisplay.from_predictions(X_train, y_train_pred,\n",
        "                                        sample_weight = sample_weight\n",
        "                                        normalize = 'True', values_format='.0%')"
      ],
      "metadata": {
        "id": "Z5lfTiogbZCG"
      },
      "execution_count": null,
      "outputs": []
    },
    {
      "cell_type": "code",
      "source": [
        "#multilabel classification\n",
        "import numpy as np\n",
        "from sklearn.neighbors import KNeighborsClassifier\n",
        "y_train_large = (y_train >= '7')\n",
        "y_train_odd = (y_train.astype('int8') % 2 == 1 )\n",
        "y_multilabel = np.c_(y_train_large, y_train_odd)\n",
        "\n",
        "kneigbors = KNeighborsClassifier()\n",
        "kneighbors.fit(X_train, y_multilabel)"
      ],
      "metadata": {
        "id": "9qKoWxRAe0IY"
      },
      "execution_count": null,
      "outputs": []
    },
    {
      "cell_type": "code",
      "source": [
        "#chain classifier\n",
        "from sklearn.multioutput import ClassifierChain\n",
        "chain_clf = ClassifierChain(SVC(), cv = 3, random_state = 42)\n",
        "chain_clf.fit(X_train[:2000], y_multilabel[:2000])\n",
        "chain_clf.predict([random_digit])"
      ],
      "metadata": {
        "id": "LZEwW2UXg76r"
      },
      "execution_count": null,
      "outputs": []
    },
    {
      "cell_type": "code",
      "source": [
        "#multiouput classification \n",
        "np.random.seed(42)\n",
        "noise = np.random.randint(0, 100, len(X_train), 784)\n",
        "X_train_mod = Xtrain + noise\n",
        "noise = np.random.randint(0, 100, len(X_test), 784)\n",
        "X_test_mod = noise + X_test\n",
        "y_train_mod = X_train\n",
        "y_test_mod = y_test"
      ],
      "metadata": {
        "id": "a87n7PkniXtl"
      },
      "execution_count": null,
      "outputs": []
    },
    {
      "cell_type": "code",
      "source": [
        "#clean up using a classifier\n",
        "knn_clf = KNeighborsClassifier()\n",
        "knn_clf.fit(X_train_mod, y_train_mod)\n",
        "clean_image = knn_clf.predict([X_test_mod[0]])\n",
        "plot_digit(clean_image)\n",
        "plt.show()"
      ],
      "metadata": {
        "id": "Ap8uLy1VjM9o"
      },
      "execution_count": null,
      "outputs": []
    }
  ]
}